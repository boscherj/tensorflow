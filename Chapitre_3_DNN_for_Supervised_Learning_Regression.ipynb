{
  "nbformat": 4,
  "nbformat_minor": 0,
  "metadata": {
    "colab": {
      "name": "Chapitre 3 - DNN for Supervised Learning : Regression",
      "version": "0.3.2",
      "provenance": [],
      "include_colab_link": true
    },
    "kernelspec": {
      "name": "python3",
      "display_name": "Python 3"
    },
    "accelerator": "GPU"
  },
  "cells": [
    {
      "cell_type": "markdown",
      "metadata": {
        "id": "view-in-github",
        "colab_type": "text"
      },
      "source": [
        "<a href=\"https://colab.research.google.com/github/boscherj/tensorflow/blob/master/Chapitre_3_DNN_for_Supervised_Learning_Regression.ipynb\" target=\"_parent\"><img src=\"https://colab.research.google.com/assets/colab-badge.svg\" alt=\"Open In Colab\"/></a>"
      ]
    },
    {
      "metadata": {
        "id": "nWU_RsK-YreG",
        "colab_type": "code",
        "colab": {
          "base_uri": "https://localhost:8080/",
          "height": 91
        },
        "outputId": "0475e175-c943-4311-907d-64e0a46152a4"
      },
      "cell_type": "code",
      "source": [
        "import pandas as pd\n",
        "df = pd.read_csv(\"http://bec552ebfe.url-de-test.ws/ml/rossmann-store-sales/train.csv\")"
      ],
      "execution_count": 3,
      "outputs": [
        {
          "output_type": "stream",
          "text": [
            "/usr/local/lib/python3.6/dist-packages/IPython/core/interactiveshell.py:2718: DtypeWarning: Columns (7) have mixed types. Specify dtype option on import or set low_memory=False.\n",
            "  interactivity=interactivity, compiler=compiler, result=result)\n"
          ],
          "name": "stderr"
        }
      ]
    },
    {
      "metadata": {
        "id": "uFzrxWZ4aJQv",
        "colab_type": "code",
        "colab": {
          "base_uri": "https://localhost:8080/",
          "height": 204
        },
        "outputId": "9a6c86d8-07ee-4299-e9ae-3519b454b8d1"
      },
      "cell_type": "code",
      "source": [
        "df.head()"
      ],
      "execution_count": 4,
      "outputs": [
        {
          "output_type": "execute_result",
          "data": {
            "text/html": [
              "<div>\n",
              "<style scoped>\n",
              "    .dataframe tbody tr th:only-of-type {\n",
              "        vertical-align: middle;\n",
              "    }\n",
              "\n",
              "    .dataframe tbody tr th {\n",
              "        vertical-align: top;\n",
              "    }\n",
              "\n",
              "    .dataframe thead th {\n",
              "        text-align: right;\n",
              "    }\n",
              "</style>\n",
              "<table border=\"1\" class=\"dataframe\">\n",
              "  <thead>\n",
              "    <tr style=\"text-align: right;\">\n",
              "      <th></th>\n",
              "      <th>Store</th>\n",
              "      <th>DayOfWeek</th>\n",
              "      <th>Date</th>\n",
              "      <th>Sales</th>\n",
              "      <th>Customers</th>\n",
              "      <th>Open</th>\n",
              "      <th>Promo</th>\n",
              "      <th>StateHoliday</th>\n",
              "      <th>SchoolHoliday</th>\n",
              "    </tr>\n",
              "  </thead>\n",
              "  <tbody>\n",
              "    <tr>\n",
              "      <th>0</th>\n",
              "      <td>1</td>\n",
              "      <td>5</td>\n",
              "      <td>2015-07-31</td>\n",
              "      <td>5263</td>\n",
              "      <td>555</td>\n",
              "      <td>1</td>\n",
              "      <td>1</td>\n",
              "      <td>0</td>\n",
              "      <td>1</td>\n",
              "    </tr>\n",
              "    <tr>\n",
              "      <th>1</th>\n",
              "      <td>2</td>\n",
              "      <td>5</td>\n",
              "      <td>2015-07-31</td>\n",
              "      <td>6064</td>\n",
              "      <td>625</td>\n",
              "      <td>1</td>\n",
              "      <td>1</td>\n",
              "      <td>0</td>\n",
              "      <td>1</td>\n",
              "    </tr>\n",
              "    <tr>\n",
              "      <th>2</th>\n",
              "      <td>3</td>\n",
              "      <td>5</td>\n",
              "      <td>2015-07-31</td>\n",
              "      <td>8314</td>\n",
              "      <td>821</td>\n",
              "      <td>1</td>\n",
              "      <td>1</td>\n",
              "      <td>0</td>\n",
              "      <td>1</td>\n",
              "    </tr>\n",
              "    <tr>\n",
              "      <th>3</th>\n",
              "      <td>4</td>\n",
              "      <td>5</td>\n",
              "      <td>2015-07-31</td>\n",
              "      <td>13995</td>\n",
              "      <td>1498</td>\n",
              "      <td>1</td>\n",
              "      <td>1</td>\n",
              "      <td>0</td>\n",
              "      <td>1</td>\n",
              "    </tr>\n",
              "    <tr>\n",
              "      <th>4</th>\n",
              "      <td>5</td>\n",
              "      <td>5</td>\n",
              "      <td>2015-07-31</td>\n",
              "      <td>4822</td>\n",
              "      <td>559</td>\n",
              "      <td>1</td>\n",
              "      <td>1</td>\n",
              "      <td>0</td>\n",
              "      <td>1</td>\n",
              "    </tr>\n",
              "  </tbody>\n",
              "</table>\n",
              "</div>"
            ],
            "text/plain": [
              "   Store  DayOfWeek        Date  Sales  Customers  Open  Promo StateHoliday  \\\n",
              "0      1          5  2015-07-31   5263        555     1      1            0   \n",
              "1      2          5  2015-07-31   6064        625     1      1            0   \n",
              "2      3          5  2015-07-31   8314        821     1      1            0   \n",
              "3      4          5  2015-07-31  13995       1498     1      1            0   \n",
              "4      5          5  2015-07-31   4822        559     1      1            0   \n",
              "\n",
              "   SchoolHoliday  \n",
              "0              1  \n",
              "1              1  \n",
              "2              1  \n",
              "3              1  \n",
              "4              1  "
            ]
          },
          "metadata": {
            "tags": []
          },
          "execution_count": 4
        }
      ]
    },
    {
      "metadata": {
        "id": "lX-aWMI2e2NW",
        "colab_type": "code",
        "colab": {
          "base_uri": "https://localhost:8080/",
          "height": 34
        },
        "outputId": "7e72e341-ecf9-4a3d-f6ed-70dccc2c6b67"
      },
      "cell_type": "code",
      "source": [
        "df.shape"
      ],
      "execution_count": 6,
      "outputs": [
        {
          "output_type": "execute_result",
          "data": {
            "text/plain": [
              "(1017209, 9)"
            ]
          },
          "metadata": {
            "tags": []
          },
          "execution_count": 6
        }
      ]
    },
    {
      "metadata": {
        "id": "NiDml3Z5fVN0",
        "colab_type": "code",
        "colab": {
          "base_uri": "https://localhost:8080/",
          "height": 34
        },
        "outputId": "18766898-6dcb-4c62-f8c3-936c9cbd8e2e"
      },
      "cell_type": "code",
      "source": [
        "store = pd.read_csv(\"http://bec552ebfe.url-de-test.ws/ml/rossmann-store-sales/store.csv\") \n",
        "print(\"Shape of the Dataset:\",store.shape)"
      ],
      "execution_count": 7,
      "outputs": [
        {
          "output_type": "stream",
          "text": [
            "Shape of the Dataset: (1115, 10)\n"
          ],
          "name": "stdout"
        }
      ]
    },
    {
      "metadata": {
        "id": "K4aDXtHEhesQ",
        "colab_type": "code",
        "colab": {
          "base_uri": "https://localhost:8080/",
          "height": 244
        },
        "outputId": "1579c51f-0d7d-4ee7-fe54-c9086dc0e063"
      },
      "cell_type": "code",
      "source": [
        "store.head(5)"
      ],
      "execution_count": 9,
      "outputs": [
        {
          "output_type": "execute_result",
          "data": {
            "text/html": [
              "<div>\n",
              "<style scoped>\n",
              "    .dataframe tbody tr th:only-of-type {\n",
              "        vertical-align: middle;\n",
              "    }\n",
              "\n",
              "    .dataframe tbody tr th {\n",
              "        vertical-align: top;\n",
              "    }\n",
              "\n",
              "    .dataframe thead th {\n",
              "        text-align: right;\n",
              "    }\n",
              "</style>\n",
              "<table border=\"1\" class=\"dataframe\">\n",
              "  <thead>\n",
              "    <tr style=\"text-align: right;\">\n",
              "      <th></th>\n",
              "      <th>Store</th>\n",
              "      <th>StoreType</th>\n",
              "      <th>Assortment</th>\n",
              "      <th>CompetitionDistance</th>\n",
              "      <th>CompetitionOpenSinceMonth</th>\n",
              "      <th>CompetitionOpenSinceYear</th>\n",
              "      <th>Promo2</th>\n",
              "      <th>Promo2SinceWeek</th>\n",
              "      <th>Promo2SinceYear</th>\n",
              "      <th>PromoInterval</th>\n",
              "    </tr>\n",
              "  </thead>\n",
              "  <tbody>\n",
              "    <tr>\n",
              "      <th>0</th>\n",
              "      <td>1</td>\n",
              "      <td>c</td>\n",
              "      <td>a</td>\n",
              "      <td>1270.0</td>\n",
              "      <td>9.0</td>\n",
              "      <td>2008.0</td>\n",
              "      <td>0</td>\n",
              "      <td>NaN</td>\n",
              "      <td>NaN</td>\n",
              "      <td>NaN</td>\n",
              "    </tr>\n",
              "    <tr>\n",
              "      <th>1</th>\n",
              "      <td>2</td>\n",
              "      <td>a</td>\n",
              "      <td>a</td>\n",
              "      <td>570.0</td>\n",
              "      <td>11.0</td>\n",
              "      <td>2007.0</td>\n",
              "      <td>1</td>\n",
              "      <td>13.0</td>\n",
              "      <td>2010.0</td>\n",
              "      <td>Jan,Apr,Jul,Oct</td>\n",
              "    </tr>\n",
              "    <tr>\n",
              "      <th>2</th>\n",
              "      <td>3</td>\n",
              "      <td>a</td>\n",
              "      <td>a</td>\n",
              "      <td>14130.0</td>\n",
              "      <td>12.0</td>\n",
              "      <td>2006.0</td>\n",
              "      <td>1</td>\n",
              "      <td>14.0</td>\n",
              "      <td>2011.0</td>\n",
              "      <td>Jan,Apr,Jul,Oct</td>\n",
              "    </tr>\n",
              "    <tr>\n",
              "      <th>3</th>\n",
              "      <td>4</td>\n",
              "      <td>c</td>\n",
              "      <td>c</td>\n",
              "      <td>620.0</td>\n",
              "      <td>9.0</td>\n",
              "      <td>2009.0</td>\n",
              "      <td>0</td>\n",
              "      <td>NaN</td>\n",
              "      <td>NaN</td>\n",
              "      <td>NaN</td>\n",
              "    </tr>\n",
              "    <tr>\n",
              "      <th>4</th>\n",
              "      <td>5</td>\n",
              "      <td>a</td>\n",
              "      <td>a</td>\n",
              "      <td>29910.0</td>\n",
              "      <td>4.0</td>\n",
              "      <td>2015.0</td>\n",
              "      <td>0</td>\n",
              "      <td>NaN</td>\n",
              "      <td>NaN</td>\n",
              "      <td>NaN</td>\n",
              "    </tr>\n",
              "  </tbody>\n",
              "</table>\n",
              "</div>"
            ],
            "text/plain": [
              "   Store StoreType Assortment  CompetitionDistance  CompetitionOpenSinceMonth  \\\n",
              "0      1         c          a               1270.0                        9.0   \n",
              "1      2         a          a                570.0                       11.0   \n",
              "2      3         a          a              14130.0                       12.0   \n",
              "3      4         c          c                620.0                        9.0   \n",
              "4      5         a          a              29910.0                        4.0   \n",
              "\n",
              "   CompetitionOpenSinceYear  Promo2  Promo2SinceWeek  Promo2SinceYear  \\\n",
              "0                    2008.0       0              NaN              NaN   \n",
              "1                    2007.0       1             13.0           2010.0   \n",
              "2                    2006.0       1             14.0           2011.0   \n",
              "3                    2009.0       0              NaN              NaN   \n",
              "4                    2015.0       0              NaN              NaN   \n",
              "\n",
              "     PromoInterval  \n",
              "0              NaN  \n",
              "1  Jan,Apr,Jul,Oct  \n",
              "2  Jan,Apr,Jul,Oct  \n",
              "3              NaN  \n",
              "4              NaN  "
            ]
          },
          "metadata": {
            "tags": []
          },
          "execution_count": 9
        }
      ]
    },
    {
      "metadata": {
        "id": "ctj77IKQhjN5",
        "colab_type": "code",
        "colab": {
          "base_uri": "https://localhost:8080/",
          "height": 34
        },
        "outputId": "198336e2-6231-43ff-8ce9-6ffb18ff7066"
      },
      "cell_type": "code",
      "source": [
        "df_new = df.merge(store,on=[\"Store\"], how=\"inner\")\n",
        "print(df_new.shape)"
      ],
      "execution_count": 10,
      "outputs": [
        {
          "output_type": "stream",
          "text": [
            "(1017209, 18)\n"
          ],
          "name": "stdout"
        }
      ]
    },
    {
      "metadata": {
        "id": "NGVuc0S-ll0-",
        "colab_type": "code",
        "colab": {
          "base_uri": "https://localhost:8080/",
          "height": 329
        },
        "outputId": "6d1bc23c-4a6b-4582-ce6d-cf3b5d221971"
      },
      "cell_type": "code",
      "source": [
        "df_new.head(5)"
      ],
      "execution_count": 11,
      "outputs": [
        {
          "output_type": "execute_result",
          "data": {
            "text/html": [
              "<div>\n",
              "<style scoped>\n",
              "    .dataframe tbody tr th:only-of-type {\n",
              "        vertical-align: middle;\n",
              "    }\n",
              "\n",
              "    .dataframe tbody tr th {\n",
              "        vertical-align: top;\n",
              "    }\n",
              "\n",
              "    .dataframe thead th {\n",
              "        text-align: right;\n",
              "    }\n",
              "</style>\n",
              "<table border=\"1\" class=\"dataframe\">\n",
              "  <thead>\n",
              "    <tr style=\"text-align: right;\">\n",
              "      <th></th>\n",
              "      <th>Store</th>\n",
              "      <th>DayOfWeek</th>\n",
              "      <th>Date</th>\n",
              "      <th>Sales</th>\n",
              "      <th>Customers</th>\n",
              "      <th>Open</th>\n",
              "      <th>Promo</th>\n",
              "      <th>StateHoliday</th>\n",
              "      <th>SchoolHoliday</th>\n",
              "      <th>StoreType</th>\n",
              "      <th>Assortment</th>\n",
              "      <th>CompetitionDistance</th>\n",
              "      <th>CompetitionOpenSinceMonth</th>\n",
              "      <th>CompetitionOpenSinceYear</th>\n",
              "      <th>Promo2</th>\n",
              "      <th>Promo2SinceWeek</th>\n",
              "      <th>Promo2SinceYear</th>\n",
              "      <th>PromoInterval</th>\n",
              "    </tr>\n",
              "  </thead>\n",
              "  <tbody>\n",
              "    <tr>\n",
              "      <th>0</th>\n",
              "      <td>1</td>\n",
              "      <td>5</td>\n",
              "      <td>2015-07-31</td>\n",
              "      <td>5263</td>\n",
              "      <td>555</td>\n",
              "      <td>1</td>\n",
              "      <td>1</td>\n",
              "      <td>0</td>\n",
              "      <td>1</td>\n",
              "      <td>c</td>\n",
              "      <td>a</td>\n",
              "      <td>1270.0</td>\n",
              "      <td>9.0</td>\n",
              "      <td>2008.0</td>\n",
              "      <td>0</td>\n",
              "      <td>NaN</td>\n",
              "      <td>NaN</td>\n",
              "      <td>NaN</td>\n",
              "    </tr>\n",
              "    <tr>\n",
              "      <th>1</th>\n",
              "      <td>1</td>\n",
              "      <td>4</td>\n",
              "      <td>2015-07-30</td>\n",
              "      <td>5020</td>\n",
              "      <td>546</td>\n",
              "      <td>1</td>\n",
              "      <td>1</td>\n",
              "      <td>0</td>\n",
              "      <td>1</td>\n",
              "      <td>c</td>\n",
              "      <td>a</td>\n",
              "      <td>1270.0</td>\n",
              "      <td>9.0</td>\n",
              "      <td>2008.0</td>\n",
              "      <td>0</td>\n",
              "      <td>NaN</td>\n",
              "      <td>NaN</td>\n",
              "      <td>NaN</td>\n",
              "    </tr>\n",
              "    <tr>\n",
              "      <th>2</th>\n",
              "      <td>1</td>\n",
              "      <td>3</td>\n",
              "      <td>2015-07-29</td>\n",
              "      <td>4782</td>\n",
              "      <td>523</td>\n",
              "      <td>1</td>\n",
              "      <td>1</td>\n",
              "      <td>0</td>\n",
              "      <td>1</td>\n",
              "      <td>c</td>\n",
              "      <td>a</td>\n",
              "      <td>1270.0</td>\n",
              "      <td>9.0</td>\n",
              "      <td>2008.0</td>\n",
              "      <td>0</td>\n",
              "      <td>NaN</td>\n",
              "      <td>NaN</td>\n",
              "      <td>NaN</td>\n",
              "    </tr>\n",
              "    <tr>\n",
              "      <th>3</th>\n",
              "      <td>1</td>\n",
              "      <td>2</td>\n",
              "      <td>2015-07-28</td>\n",
              "      <td>5011</td>\n",
              "      <td>560</td>\n",
              "      <td>1</td>\n",
              "      <td>1</td>\n",
              "      <td>0</td>\n",
              "      <td>1</td>\n",
              "      <td>c</td>\n",
              "      <td>a</td>\n",
              "      <td>1270.0</td>\n",
              "      <td>9.0</td>\n",
              "      <td>2008.0</td>\n",
              "      <td>0</td>\n",
              "      <td>NaN</td>\n",
              "      <td>NaN</td>\n",
              "      <td>NaN</td>\n",
              "    </tr>\n",
              "    <tr>\n",
              "      <th>4</th>\n",
              "      <td>1</td>\n",
              "      <td>1</td>\n",
              "      <td>2015-07-27</td>\n",
              "      <td>6102</td>\n",
              "      <td>612</td>\n",
              "      <td>1</td>\n",
              "      <td>1</td>\n",
              "      <td>0</td>\n",
              "      <td>1</td>\n",
              "      <td>c</td>\n",
              "      <td>a</td>\n",
              "      <td>1270.0</td>\n",
              "      <td>9.0</td>\n",
              "      <td>2008.0</td>\n",
              "      <td>0</td>\n",
              "      <td>NaN</td>\n",
              "      <td>NaN</td>\n",
              "      <td>NaN</td>\n",
              "    </tr>\n",
              "  </tbody>\n",
              "</table>\n",
              "</div>"
            ],
            "text/plain": [
              "   Store  DayOfWeek        Date  Sales  Customers  Open  Promo StateHoliday  \\\n",
              "0      1          5  2015-07-31   5263        555     1      1            0   \n",
              "1      1          4  2015-07-30   5020        546     1      1            0   \n",
              "2      1          3  2015-07-29   4782        523     1      1            0   \n",
              "3      1          2  2015-07-28   5011        560     1      1            0   \n",
              "4      1          1  2015-07-27   6102        612     1      1            0   \n",
              "\n",
              "   SchoolHoliday StoreType Assortment  CompetitionDistance  \\\n",
              "0              1         c          a               1270.0   \n",
              "1              1         c          a               1270.0   \n",
              "2              1         c          a               1270.0   \n",
              "3              1         c          a               1270.0   \n",
              "4              1         c          a               1270.0   \n",
              "\n",
              "   CompetitionOpenSinceMonth  CompetitionOpenSinceYear  Promo2  \\\n",
              "0                        9.0                    2008.0       0   \n",
              "1                        9.0                    2008.0       0   \n",
              "2                        9.0                    2008.0       0   \n",
              "3                        9.0                    2008.0       0   \n",
              "4                        9.0                    2008.0       0   \n",
              "\n",
              "   Promo2SinceWeek  Promo2SinceYear PromoInterval  \n",
              "0              NaN              NaN           NaN  \n",
              "1              NaN              NaN           NaN  \n",
              "2              NaN              NaN           NaN  \n",
              "3              NaN              NaN           NaN  \n",
              "4              NaN              NaN           NaN  "
            ]
          },
          "metadata": {
            "tags": []
          },
          "execution_count": 11
        }
      ]
    },
    {
      "metadata": {
        "id": "u-tDHlv5lpSu",
        "colab_type": "code",
        "colab": {
          "base_uri": "https://localhost:8080/",
          "height": 68
        },
        "outputId": "4e7ec1c1-2970-4d84-bf87-1de5e0d64735"
      },
      "cell_type": "code",
      "source": [
        "print(\"Distinct number of Stores :\", len(df_new[\"Store\"].unique()))\n",
        "print(\"Distinct number of Days :\", len(df_new[\"Date\"].unique()))\n",
        "print(\"Average daily sales of all stores : \",round(df_new[\"Sales\"].mean(),2))"
      ],
      "execution_count": 12,
      "outputs": [
        {
          "output_type": "stream",
          "text": [
            "Distinct number of Stores : 1115\n",
            "Distinct number of Days : 942\n",
            "Average daily sales of all stores :  5773.82\n"
          ],
          "name": "stdout"
        }
      ]
    },
    {
      "metadata": {
        "id": "A_0cr3sAmEAY",
        "colab_type": "code",
        "colab": {
          "base_uri": "https://localhost:8080/",
          "height": 340
        },
        "outputId": "4a07ada5-b1c4-4a29-ab38-40ee7a8e823b"
      },
      "cell_type": "code",
      "source": [
        "df_new.dtypes"
      ],
      "execution_count": 13,
      "outputs": [
        {
          "output_type": "execute_result",
          "data": {
            "text/plain": [
              "Store                          int64\n",
              "DayOfWeek                      int64\n",
              "Date                          object\n",
              "Sales                          int64\n",
              "Customers                      int64\n",
              "Open                           int64\n",
              "Promo                          int64\n",
              "StateHoliday                  object\n",
              "SchoolHoliday                  int64\n",
              "StoreType                     object\n",
              "Assortment                    object\n",
              "CompetitionDistance          float64\n",
              "CompetitionOpenSinceMonth    float64\n",
              "CompetitionOpenSinceYear     float64\n",
              "Promo2                         int64\n",
              "Promo2SinceWeek              float64\n",
              "Promo2SinceYear              float64\n",
              "PromoInterval                 object\n",
              "dtype: object"
            ]
          },
          "metadata": {
            "tags": []
          },
          "execution_count": 13
        }
      ]
    },
    {
      "metadata": {
        "id": "XDlC1UqYnoNE",
        "colab_type": "code",
        "colab": {
          "base_uri": "https://localhost:8080/",
          "height": 153
        },
        "outputId": "64b48b2b-91f8-40dd-a5c3-9ff150c90fd2"
      },
      "cell_type": "code",
      "source": [
        "df_new[\"DayOfWeek\"].value_counts()"
      ],
      "execution_count": 14,
      "outputs": [
        {
          "output_type": "execute_result",
          "data": {
            "text/plain": [
              "5    145845\n",
              "4    145845\n",
              "3    145665\n",
              "2    145664\n",
              "7    144730\n",
              "6    144730\n",
              "1    144730\n",
              "Name: DayOfWeek, dtype: int64"
            ]
          },
          "metadata": {
            "tags": []
          },
          "execution_count": 14
        }
      ]
    },
    {
      "metadata": {
        "id": "By-WMK3qpSeP",
        "colab_type": "code",
        "colab": {}
      },
      "cell_type": "code",
      "source": [
        "# We can extract all date properties from a datetime datatype\n",
        "import numpy as np\n",
        "df_new['Date'] = pd.to_datetime(df_new['Date'], infer_datetime_format=True)\n",
        "df_new[\"Month\"] = df_new[\"Date\"].dt.month\n",
        "df_new[\"Quarter\"] = df_new[\"Date\"].dt.quarter\n",
        "df_new[\"Year\"] = df_new[\"Date\"].dt.year\n",
        "df_new[\"Day\"] = df_new[\"Date\"].dt.day\n",
        "df_new[\"Week\"] = df_new[\"Date\"].dt.week\n",
        "df_new[\"Season\"] = np.where(df_new[\"Month\"].isin([3,4,5]),\"Spring\", np.where(df_new[\"Month\"].isin([6,7,8]),\"Summer\",np.where(df_new[\"Month\"].isin([9,10,11]),\"Fall\",np.where(df_new[\"Month\"].isin([12,1,2]),\"Winter\",\"None\"))))"
      ],
      "execution_count": 0,
      "outputs": []
    },
    {
      "metadata": {
        "id": "2NGg5Tbcp9I1",
        "colab_type": "code",
        "colab": {
          "base_uri": "https://localhost:8080/",
          "height": 119
        },
        "outputId": "ad61cba2-6623-4a7d-b68e-53035cb30d7b"
      },
      "cell_type": "code",
      "source": [
        "# Using the head command to view (only) the data and the newly engineered features\n",
        "print(df_new[[\"Date\",\"Year\",\"Month\",\"Day\",\"Week\",\"Quarter\",\"Season\"]].head())"
      ],
      "execution_count": 16,
      "outputs": [
        {
          "output_type": "stream",
          "text": [
            "        Date  Year  Month  Day  Week  Quarter  Season\n",
            "0 2015-07-31  2015      7   31    31        3  Summer\n",
            "1 2015-07-30  2015      7   30    31        3  Summer\n",
            "2 2015-07-29  2015      7   29    31        3  Summer\n",
            "3 2015-07-28  2015      7   28    31        3  Summer\n",
            "4 2015-07-27  2015      7   27    31        3  Summer\n"
          ],
          "name": "stdout"
        }
      ]
    },
    {
      "metadata": {
        "id": "cUAJWibaqHYL",
        "colab_type": "code",
        "colab": {
          "base_uri": "https://localhost:8080/",
          "height": 513
        },
        "outputId": "c975c78e-f260-477b-8d8f-71a5fd089892"
      },
      "cell_type": "code",
      "source": [
        "# Import matplotlib, python most popular data visualizing library\n",
        "import matplotlib.pyplot as plt\n",
        "%matplotlib inline\n",
        "# Create a histogram to study the Daily Sales for the stores\n",
        "plt.figure(figsize=(15,8))\n",
        "plt.hist(df_new[\"Sales\"])\n",
        "plt.title(\"Histogramme des Ventes\")\n",
        "plt.xlabel(\"bins\")\n",
        "plt.xlabel(\"Fréquence\")\n",
        "plt.show()"
      ],
      "execution_count": 20,
      "outputs": [
        {
          "output_type": "display_data",
          "data": {
            "image/png": "[encoded data removed]",
            "text/plain": [
              "<Figure size 1080x576 with 1 Axes>"
            ]
          },
          "metadata": {
            "tags": []
          }
        }
      ]
    },
    {
      "metadata": {
        "id": "CV-vgemcujbL",
        "colab_type": "code",
        "colab": {
          "base_uri": "https://localhost:8080/",
          "height": 1004
        },
        "outputId": "87964f33-439f-426b-cf57-8f480c27b688"
      },
      "cell_type": "code",
      "source": [
        "# Use the  histogram function provided by the Pandas object\n",
        "# The function returns a cross-tab histogram plot for all numeric columns in the data\n",
        "df_new.hist(figsize=(20,10))"
      ],
      "execution_count": 21,
      "outputs": [
        {
          "output_type": "execute_result",
          "data": {
            "text/plain": [
              "array([[<matplotlib.axes._subplots.AxesSubplot object at 0x7f33ce076828>,\n",
              "        <matplotlib.axes._subplots.AxesSubplot object at 0x7f33cdfca4e0>,\n",
              "        <matplotlib.axes._subplots.AxesSubplot object at 0x7f33cdf729e8>,\n",
              "        <matplotlib.axes._subplots.AxesSubplot object at 0x7f33cdf9bf60>],\n",
              "       [<matplotlib.axes._subplots.AxesSubplot object at 0x7f33cdf48518>,\n",
              "        <matplotlib.axes._subplots.AxesSubplot object at 0x7f33cdef0a90>,\n",
              "        <matplotlib.axes._subplots.AxesSubplot object at 0x7f33cdea2048>,\n",
              "        <matplotlib.axes._subplots.AxesSubplot object at 0x7f33cdec75f8>],\n",
              "       [<matplotlib.axes._subplots.AxesSubplot object at 0x7f33cdec7630>,\n",
              "        <matplotlib.axes._subplots.AxesSubplot object at 0x7f33cdff4cf8>,\n",
              "        <matplotlib.axes._subplots.AxesSubplot object at 0x7f33ce067c88>,\n",
              "        <matplotlib.axes._subplots.AxesSubplot object at 0x7f33ce0a9b70>],\n",
              "       [<matplotlib.axes._subplots.AxesSubplot object at 0x7f33ce161438>,\n",
              "        <matplotlib.axes._subplots.AxesSubplot object at 0x7f33ce031dd8>,\n",
              "        <matplotlib.axes._subplots.AxesSubplot object at 0x7f33ce165dd8>,\n",
              "        <matplotlib.axes._subplots.AxesSubplot object at 0x7f33ce03c390>],\n",
              "       [<matplotlib.axes._subplots.AxesSubplot object at 0x7f33ce1d9908>,\n",
              "        <matplotlib.axes._subplots.AxesSubplot object at 0x7f33ce0f8e80>,\n",
              "        <matplotlib.axes._subplots.AxesSubplot object at 0x7f33cde6e438>,\n",
              "        <matplotlib.axes._subplots.AxesSubplot object at 0x7f33cde969b0>]],\n",
              "      dtype=object)"
            ]
          },
          "metadata": {
            "tags": []
          },
          "execution_count": 21
        },
        {
          "output_type": "display_data",
          "data": {
            "image/png": "[encoded data removed]",
            "text/plain": [
              "<Figure size 1440x720 with 20 Axes>"
            ]
          },
          "metadata": {
            "tags": []
          }
        }
      ]
    },
    {
      "metadata": {
        "id": "vAJ6bj0Gx2Ll",
        "colab_type": "code",
        "colab": {
          "base_uri": "https://localhost:8080/",
          "height": 442
        },
        "outputId": "e17374b7-bf97-445f-a816-e1be3c1f74f1"
      },
      "cell_type": "code",
      "source": [
        "df_new.isnull().sum()/df_new.shape[0] * 100"
      ],
      "execution_count": 22,
      "outputs": [
        {
          "output_type": "execute_result",
          "data": {
            "text/plain": [
              "Store                         0.000000\n",
              "DayOfWeek                     0.000000\n",
              "Date                          0.000000\n",
              "Sales                         0.000000\n",
              "Customers                     0.000000\n",
              "Open                          0.000000\n",
              "Promo                         0.000000\n",
              "StateHoliday                  0.000000\n",
              "SchoolHoliday                 0.000000\n",
              "StoreType                     0.000000\n",
              "Assortment                    0.000000\n",
              "CompetitionDistance           0.259730\n",
              "CompetitionOpenSinceMonth    31.787764\n",
              "CompetitionOpenSinceYear     31.787764\n",
              "Promo2                        0.000000\n",
              "Promo2SinceWeek              49.943620\n",
              "Promo2SinceYear              49.943620\n",
              "PromoInterval                49.943620\n",
              "Month                         0.000000\n",
              "Quarter                       0.000000\n",
              "Year                          0.000000\n",
              "Day                           0.000000\n",
              "Week                          0.000000\n",
              "Season                        0.000000\n",
              "dtype: float64"
            ]
          },
          "metadata": {
            "tags": []
          },
          "execution_count": 22
        }
      ]
    },
    {
      "metadata": {
        "id": "at9KnSrJ05gp",
        "colab_type": "code",
        "colab": {
          "base_uri": "https://localhost:8080/",
          "height": 34
        },
        "outputId": "e5c3316d-8565-4833-ef75-49e68ae92ff9"
      },
      "cell_type": "code",
      "source": [
        "# Replace nulls with the mode\n",
        "df_new[\"CompetitionDistance\"]=df_new[\"CompetitionDistance\"].fillna(df_new[\"CompetitionDistance\"].mode()[0])\n",
        "# Double check if we still see nulls for the column \n",
        "df_new[\"CompetitionDistance\"].isnull().sum()/df_new.shape[0] * 100"
      ],
      "execution_count": 23,
      "outputs": [
        {
          "output_type": "execute_result",
          "data": {
            "text/plain": [
              "0.0"
            ]
          },
          "metadata": {
            "tags": []
          },
          "execution_count": 23
        }
      ]
    },
    {
      "metadata": {
        "id": "8P9cqZns1dgl",
        "colab_type": "code",
        "colab": {
          "base_uri": "https://localhost:8080/",
          "height": 291
        },
        "outputId": "0d2443f2-1da4-4b02-fd19-42665f0641a9"
      },
      "cell_type": "code",
      "source": [
        "import seaborn as sns  # Seaborn is another powerful visualization library for Python\n",
        "sns.set(style=\"whitegrid\")\n",
        "# Create the bar plot for Average Sales across different Seasons\n",
        "ax = sns.barplot(x=\"Season\", y=\"Sales\", data=df_new)"
      ],
      "execution_count": 24,
      "outputs": [
        {
          "output_type": "display_data",
          "data": {
            "image/png": "[encoded data removed]",
            "text/plain": [
              "<Figure size 432x288 with 1 Axes>"
            ]
          },
          "metadata": {
            "tags": []
          }
        }
      ]
    },
    {
      "metadata": {
        "id": "EmGJBMuv17tN",
        "colab_type": "code",
        "colab": {
          "base_uri": "https://localhost:8080/",
          "height": 291
        },
        "outputId": "5ddd96ac-c184-47e0-82a3-2d0c6db85d06"
      },
      "cell_type": "code",
      "source": [
        "# Create the bar plot for Average Sales across different Assortments\n",
        "ax = sns.barplot(x=\"Assortment\", y=\"Sales\", data=df_new)"
      ],
      "execution_count": 25,
      "outputs": [
        {
          "output_type": "display_data",
          "data": {
            "image/png": "[encoded data removed]",
            "text/plain": [
              "<Figure size 432x288 with 1 Axes>"
            ]
          },
          "metadata": {
            "tags": []
          }
        }
      ]
    },
    {
      "metadata": {
        "id": "ONgwp7Af2Rbp",
        "colab_type": "code",
        "colab": {
          "base_uri": "https://localhost:8080/",
          "height": 291
        },
        "outputId": "fd4a926a-85e9-4f90-bb21-2d09c3773867"
      },
      "cell_type": "code",
      "source": [
        "# Create the bar plot for Average Sales across different Store Types\n",
        "ax = sns.barplot(x=\"StoreType\", y=\"Sales\", data=df_new)"
      ],
      "execution_count": 26,
      "outputs": [
        {
          "output_type": "display_data",
          "data": {
            "image/png": "[encoded data removed]",
            "text/plain": [
              "<Figure size 432x288 with 1 Axes>"
            ]
          },
          "metadata": {
            "tags": []
          }
        }
      ]
    },
    {
      "metadata": {
        "id": "qCfTJL_E2l_s",
        "colab_type": "code",
        "colab": {
          "base_uri": "https://localhost:8080/",
          "height": 533
        },
        "outputId": "d9ad318e-daee-40e2-d9e3-8482a9aab3c3"
      },
      "cell_type": "code",
      "source": [
        "# Define a variable for each type of feature\n",
        "from sklearn.preprocessing import LabelEncoder\n",
        "from sklearn.preprocessing import OneHotEncoder\n",
        "\n",
        "target = [\"Sales\"]\n",
        "numeric_columns = [\"Customers\",\"Open\",\"Promo\",\"Promo2\",\"StateHoliday\",\"SchoolHoliday\",\"CompetitionDistance\"]\n",
        "categorical_columns = [\"DayOfWeek\",\"Quarter\",\"Month\",\"Year\", \"StoreType\",\"Assortment\",\"Season\"]\n",
        "\n",
        "# Define a function that will intake the raw dataframe and the column name and return a one hot encoded DF\n",
        "def create_ohe(df, col):\n",
        "  le = LabelEncoder()\n",
        "  a=le.fit_transform(df_new[col]).reshape(-1,1)\n",
        "  ohe = OneHotEncoder(sparse=False)\n",
        "  column_names = [col+ \"_\"+ str(i) for i in le.classes_]\n",
        "  return(pd.DataFrame(ohe.fit_transform(a),columns =column_names))\n",
        "\n",
        "# Since the above function converts the column, one at a time\n",
        "# We create a loop to create the final dataset with all features\n",
        "temp = df_new[numeric_columns]\n",
        "for column in categorical_columns:\n",
        "  temp_df = create_ohe(df_new,column)\n",
        "  temp = pd.concat([temp,temp_df],axis=1)"
      ],
      "execution_count": 27,
      "outputs": [
        {
          "output_type": "stream",
          "text": [
            "/usr/local/lib/python3.6/dist-packages/sklearn/preprocessing/_encoders.py:371: FutureWarning: The handling of integer data will change in version 0.22. Currently, the categories are determined based on the range [0, max(values)], while in the future they will be determined based on the unique values.\n",
            "If you want the future behaviour and silence this warning, you can specify \"categories='auto'\".\n",
            "In case you used a LabelEncoder before this OneHotEncoder to convert the categories to integers, then you can now use the OneHotEncoder directly.\n",
            "  warnings.warn(msg, FutureWarning)\n",
            "/usr/local/lib/python3.6/dist-packages/sklearn/preprocessing/_encoders.py:371: FutureWarning: The handling of integer data will change in version 0.22. Currently, the categories are determined based on the range [0, max(values)], while in the future they will be determined based on the unique values.\n",
            "If you want the future behaviour and silence this warning, you can specify \"categories='auto'\".\n",
            "In case you used a LabelEncoder before this OneHotEncoder to convert the categories to integers, then you can now use the OneHotEncoder directly.\n",
            "  warnings.warn(msg, FutureWarning)\n",
            "/usr/local/lib/python3.6/dist-packages/sklearn/preprocessing/_encoders.py:371: FutureWarning: The handling of integer data will change in version 0.22. Currently, the categories are determined based on the range [0, max(values)], while in the future they will be determined based on the unique values.\n",
            "If you want the future behaviour and silence this warning, you can specify \"categories='auto'\".\n",
            "In case you used a LabelEncoder before this OneHotEncoder to convert the categories to integers, then you can now use the OneHotEncoder directly.\n",
            "  warnings.warn(msg, FutureWarning)\n",
            "/usr/local/lib/python3.6/dist-packages/sklearn/preprocessing/_encoders.py:371: FutureWarning: The handling of integer data will change in version 0.22. Currently, the categories are determined based on the range [0, max(values)], while in the future they will be determined based on the unique values.\n",
            "If you want the future behaviour and silence this warning, you can specify \"categories='auto'\".\n",
            "In case you used a LabelEncoder before this OneHotEncoder to convert the categories to integers, then you can now use the OneHotEncoder directly.\n",
            "  warnings.warn(msg, FutureWarning)\n",
            "/usr/local/lib/python3.6/dist-packages/sklearn/preprocessing/_encoders.py:371: FutureWarning: The handling of integer data will change in version 0.22. Currently, the categories are determined based on the range [0, max(values)], while in the future they will be determined based on the unique values.\n",
            "If you want the future behaviour and silence this warning, you can specify \"categories='auto'\".\n",
            "In case you used a LabelEncoder before this OneHotEncoder to convert the categories to integers, then you can now use the OneHotEncoder directly.\n",
            "  warnings.warn(msg, FutureWarning)\n",
            "/usr/local/lib/python3.6/dist-packages/sklearn/preprocessing/_encoders.py:371: FutureWarning: The handling of integer data will change in version 0.22. Currently, the categories are determined based on the range [0, max(values)], while in the future they will be determined based on the unique values.\n",
            "If you want the future behaviour and silence this warning, you can specify \"categories='auto'\".\n",
            "In case you used a LabelEncoder before this OneHotEncoder to convert the categories to integers, then you can now use the OneHotEncoder directly.\n",
            "  warnings.warn(msg, FutureWarning)\n",
            "/usr/local/lib/python3.6/dist-packages/sklearn/preprocessing/_encoders.py:371: FutureWarning: The handling of integer data will change in version 0.22. Currently, the categories are determined based on the range [0, max(values)], while in the future they will be determined based on the unique values.\n",
            "If you want the future behaviour and silence this warning, you can specify \"categories='auto'\".\n",
            "In case you used a LabelEncoder before this OneHotEncoder to convert the categories to integers, then you can now use the OneHotEncoder directly.\n",
            "  warnings.warn(msg, FutureWarning)\n"
          ],
          "name": "stderr"
        }
      ]
    },
    {
      "metadata": {
        "id": "2b8EJqq76hkj",
        "colab_type": "code",
        "colab": {
          "base_uri": "https://localhost:8080/",
          "height": 51
        },
        "outputId": "3d5e22b4-e291-48eb-a140-611c9d8c99b0"
      },
      "cell_type": "code",
      "source": [
        "print(\"Shape of Data:\",temp.shape)\n",
        "print(\"Distinct Datatypes:\",temp.dtypes.unique())"
      ],
      "execution_count": 29,
      "outputs": [
        {
          "output_type": "stream",
          "text": [
            "Shape of Data: (1017209, 44)\n",
            "Distinct Datatypes: [dtype('int64') dtype('O') dtype('float64')]\n"
          ],
          "name": "stdout"
        }
      ]
    },
    {
      "metadata": {
        "id": "CJL0FL6i6mth",
        "colab_type": "code",
        "colab": {
          "base_uri": "https://localhost:8080/",
          "height": 34
        },
        "outputId": "2917d036-7aac-4902-f59e-ead34bc0c091"
      },
      "cell_type": "code",
      "source": [
        "print(temp.columns[temp.dtypes==\"object\"])"
      ],
      "execution_count": 30,
      "outputs": [
        {
          "output_type": "stream",
          "text": [
            "Index(['StateHoliday'], dtype='object')\n"
          ],
          "name": "stdout"
        }
      ]
    },
    {
      "metadata": {
        "id": "Tp-5IUon8WTW",
        "colab_type": "code",
        "colab": {
          "base_uri": "https://localhost:8080/",
          "height": 34
        },
        "outputId": "66a9573d-0873-48c9-d0fc-324aa6753d20"
      },
      "cell_type": "code",
      "source": [
        "temp[\"StateHoliday\"].unique()"
      ],
      "execution_count": 31,
      "outputs": [
        {
          "output_type": "execute_result",
          "data": {
            "text/plain": [
              "array(['0', 'a', 'b', 'c', 0], dtype=object)"
            ]
          },
          "metadata": {
            "tags": []
          },
          "execution_count": 31
        }
      ]
    },
    {
      "metadata": {
        "id": "8jIFSUm78hKa",
        "colab_type": "code",
        "colab": {
          "base_uri": "https://localhost:8080/",
          "height": 34
        },
        "outputId": "ce79c927-241a-4f5d-d595-c7be2ad9ecc3"
      },
      "cell_type": "code",
      "source": [
        "temp[\"StateHoliday\"]= np.where(temp[\"StateHoliday\"]== '0',0,1)\n",
        "# One last check of the data type\n",
        "temp.dtypes.unique()"
      ],
      "execution_count": 32,
      "outputs": [
        {
          "output_type": "execute_result",
          "data": {
            "text/plain": [
              "array([dtype('int64'), dtype('float64')], dtype=object)"
            ]
          },
          "metadata": {
            "tags": []
          },
          "execution_count": 32
        }
      ]
    },
    {
      "metadata": {
        "id": "NA-OmDxY8vS5",
        "colab_type": "code",
        "colab": {
          "base_uri": "https://localhost:8080/",
          "height": 119
        },
        "outputId": "a72b8ed5-1e6e-4e9e-d89f-714ec3b5be4b"
      },
      "cell_type": "code",
      "source": [
        "from sklearn.model_selection import train_test_split\n",
        "\n",
        "# Create train and test dataset with an 80:20 split\n",
        "x_train, x_test, y_train, y_test = train_test_split(temp,\n",
        "df_new[target],test_size=0.2,random_state=2018)\n",
        "\n",
        "# Further divide training dataset into train and validation dataset with an 90:10 split\n",
        "x_train, x_val, y_train, y_val = train_test_split(x_train,\n",
        "y_train,test_size=0.1,random_state=2018)\n",
        "\n",
        "# Check the sizes of all newly created datasets\n",
        "print(\"Shape of x_train:\",x_train.shape)\n",
        "print(\"Shape of x_val:\",x_val.shape)\n",
        "print(\"Shape of x_test:\",x_test.shape)\n",
        "print(\"Shape of y_train:\",y_train.shape)\n",
        "print(\"Shape of y_val:\",y_val.shape)\n",
        "print(\"Shape of y_test:\",y_test.shape)"
      ],
      "execution_count": 35,
      "outputs": [
        {
          "output_type": "stream",
          "text": [
            "Shape of x_train: (732390, 44)\n",
            "Shape of x_val: (81377, 44)\n",
            "Shape of x_test: (203442, 44)\n",
            "Shape of y_train: (732390, 1)\n",
            "Shape of y_val: (81377, 1)\n",
            "Shape of y_test: (203442, 1)\n"
          ],
          "name": "stdout"
        }
      ]
    },
    {
      "metadata": {
        "id": "qVB9LkgEJKjd",
        "colab_type": "code",
        "colab": {
          "base_uri": "https://localhost:8080/",
          "height": 51
        },
        "outputId": "b8b0928a-0211-4499-8058-fdb15dabdc65"
      },
      "cell_type": "code",
      "source": [
        "# calculate the average score of the train dataset\n",
        "mean_sales = y_train.mean()\n",
        "print(\"Average Sales :\",mean_sales)"
      ],
      "execution_count": 36,
      "outputs": [
        {
          "output_type": "stream",
          "text": [
            "Average Sales : Sales    5773.099997\n",
            "dtype: float64\n"
          ],
          "name": "stdout"
        }
      ]
    },
    {
      "metadata": {
        "id": "_8gozsSYKsmq",
        "colab_type": "code",
        "colab": {
          "base_uri": "https://localhost:8080/",
          "height": 34
        },
        "outputId": "9b00d0b2-3652-4511-f939-4e037e65440d"
      },
      "cell_type": "code",
      "source": [
        "# Calculate the Mean Absolute Error on the test dataset\n",
        "print(\"MAE for Test Data:\",abs(y_test - mean_sales).mean()[0])"
      ],
      "execution_count": 37,
      "outputs": [
        {
          "output_type": "stream",
          "text": [
            "MAE for Test Data: 2883.587604303215\n"
          ],
          "name": "stdout"
        }
      ]
    },
    {
      "metadata": {
        "id": "JiYoKb6BK-Kw",
        "colab_type": "code",
        "colab": {
          "base_uri": "https://localhost:8080/",
          "height": 1020
        },
        "outputId": "333679ca-1672-4a8a-ad43-499bdc74fb38"
      },
      "cell_type": "code",
      "source": [
        "# Create Deep Neural Network Architecture\n",
        "from keras.models import Sequential\n",
        "from keras.layers import Dense, Dropout\n",
        "model = Sequential()\n",
        "model.add(Dense(150,input_dim = 44,activation=\"relu\"))\n",
        "\n",
        "# The input_dim =44, since the width of the training data=44(refer data engg section)\n",
        "model.add(Dense(1,activation = \"linear\"))\n",
        "\n",
        "#Configure the model\n",
        "model.compile(optimizer='adam',loss=\"mean_absolute_error\", metrics=[\"mean_absolute_error\"])\n",
        "\n",
        "#Train the model\n",
        "model.fit(x_train.values,y_train.values, validation_data=(x_val,y_val),epochs=10,batch_size=64)"
      ],
      "execution_count": 38,
      "outputs": [
        {
          "output_type": "stream",
          "text": [
            "Using TensorFlow backend.\n"
          ],
          "name": "stderr"
        },
        {
          "output_type": "stream",
          "text": [
            "WARNING:tensorflow:From /usr/local/lib/python3.6/dist-packages/tensorflow/python/framework/op_def_library.py:263: colocate_with (from tensorflow.python.framework.ops) is deprecated and will be removed in a future version.\n",
            "Instructions for updating:\n",
            "Colocations handled automatically by placer.\n",
            "WARNING:tensorflow:From /usr/local/lib/python3.6/dist-packages/tensorflow/python/ops/math_ops.py:3066: to_int32 (from tensorflow.python.ops.math_ops) is deprecated and will be removed in a future version.\n",
            "Instructions for updating:\n",
            "Use tf.cast instead.\n",
            "Train on 732390 samples, validate on 81377 samples\n",
            "Epoch 1/10\n",
            "732390/732390 [==============================] - 30s 41us/step - loss: 944.6557 - mean_absolute_error: 944.6557 - val_loss: 819.7478 - val_mean_absolute_error: 819.7478\n",
            "Epoch 2/10\n",
            "732390/732390 [==============================] - 29s 39us/step - loss: 773.2035 - mean_absolute_error: 773.2035 - val_loss: 747.8291 - val_mean_absolute_error: 747.8291\n",
            "Epoch 3/10\n",
            "732390/732390 [==============================] - 28s 38us/step - loss: 734.3570 - mean_absolute_error: 734.3570 - val_loss: 723.2145 - val_mean_absolute_error: 723.2145\n",
            "Epoch 4/10\n",
            "732390/732390 [==============================] - 27s 37us/step - loss: 718.6157 - mean_absolute_error: 718.6157 - val_loss: 710.5568 - val_mean_absolute_error: 710.5568\n",
            "Epoch 5/10\n",
            "732390/732390 [==============================] - 29s 39us/step - loss: 704.8254 - mean_absolute_error: 704.8254 - val_loss: 695.5905 - val_mean_absolute_error: 695.5905\n",
            "Epoch 6/10\n",
            "732390/732390 [==============================] - 27s 37us/step - loss: 699.6464 - mean_absolute_error: 699.6464 - val_loss: 691.4862 - val_mean_absolute_error: 691.4862\n",
            "Epoch 7/10\n",
            "732390/732390 [==============================] - 29s 40us/step - loss: 694.9001 - mean_absolute_error: 694.9001 - val_loss: 705.1612 - val_mean_absolute_error: 705.1612\n",
            "Epoch 8/10\n",
            "732390/732390 [==============================] - 29s 39us/step - loss: 692.2150 - mean_absolute_error: 692.2150 - val_loss: 690.5002 - val_mean_absolute_error: 690.5002\n",
            "Epoch 9/10\n",
            "732390/732390 [==============================] - 27s 37us/step - loss: 688.5974 - mean_absolute_error: 688.5974 - val_loss: 689.1487 - val_mean_absolute_error: 689.1487\n",
            "Epoch 10/10\n",
            "732390/732390 [==============================] - 27s 37us/step - loss: 683.1414 - mean_absolute_error: 683.1414 - val_loss: 692.4914 - val_mean_absolute_error: 692.4914\n"
          ],
          "name": "stdout"
        },
        {
          "output_type": "execute_result",
          "data": {
            "text/plain": [
              "<keras.callbacks.History at 0x7f337c7a4898>"
            ]
          },
          "metadata": {
            "tags": []
          },
          "execution_count": 38
        }
      ]
    },
    {
      "metadata": {
        "id": "JCWWr6cdLmKs",
        "colab_type": "code",
        "colab": {
          "base_uri": "https://localhost:8080/",
          "height": 68
        },
        "outputId": "b990e77b-2ca3-4d29-edf5-e0536ac30a93"
      },
      "cell_type": "code",
      "source": [
        "# Use the model's evaluate method to predict and evaluate the test datasets\n",
        "result = model.evaluate(x_test.values,y_test.values)\n",
        "\n",
        "# Print the results\n",
        "for i in range(len(model.metrics_names)):\n",
        "  print(\"Metric \",model.metrics_names[i],\":\",str(round(result[i],2)))"
      ],
      "execution_count": 39,
      "outputs": [
        {
          "output_type": "stream",
          "text": [
            "203442/203442 [==============================] - 5s 26us/step\n",
            "Metric  loss : 690.1\n",
            "Metric  mean_absolute_error : 690.1\n"
          ],
          "name": "stdout"
        }
      ]
    },
    {
      "metadata": {
        "id": "ciA2FT6RNK-6",
        "colab_type": "code",
        "colab": {
          "base_uri": "https://localhost:8080/",
          "height": 1020
        },
        "outputId": "36124340-33af-4556-e6c9-f3476cd5abce"
      },
      "cell_type": "code",
      "source": [
        "model = Sequential()\n",
        "model.add(Dense(150,input_dim = 44,activation=\"relu\"))\n",
        "model.add(Dense(150,activation=\"relu\"))\n",
        "model.add(Dense(150,activation=\"relu\"))\n",
        "model.add(Dense(1,activation = \"linear\"))\n",
        "model.compile(optimizer='adam',loss=\"mean_squared_error\",metrics=[\"mean_absolute_error\"])\n",
        "\n",
        "history = model.fit(x_train,y_train, validation_data=(x_val,y_val),epochs=10,batch_size=64)\n",
        "\n",
        "# result = model.evaluate(x_test,y_test)\n",
        "for i in range(len(model.metrics_names)):\n",
        "  print(\"Metric \",model.metrics_names[i],\":\",str(round(result[i],2)))"
      ],
      "execution_count": 40,
      "outputs": [
        {
          "output_type": "stream",
          "text": [
            "Train on 732390 samples, validate on 81377 samples\n",
            "Epoch 1/10\n",
            "732390/732390 [==============================] - 35s 48us/step - loss: 1726005.7325 - mean_absolute_error: 853.7699 - val_loss: 1116257.5049 - val_mean_absolute_error: 710.3434\n",
            "Epoch 2/10\n",
            "732390/732390 [==============================] - 36s 49us/step - loss: 1149926.0055 - mean_absolute_error: 718.6125 - val_loss: 1043340.8199 - val_mean_absolute_error: 682.8135\n",
            "Epoch 3/10\n",
            "732390/732390 [==============================] - 35s 48us/step - loss: 1078362.3809 - mean_absolute_error: 696.9257 - val_loss: 1030583.2103 - val_mean_absolute_error: 684.6889\n",
            "Epoch 4/10\n",
            "732390/732390 [==============================] - 35s 48us/step - loss: 1045838.6690 - mean_absolute_error: 686.2809 - val_loss: 995751.8180 - val_mean_absolute_error: 669.2394\n",
            "Epoch 5/10\n",
            "732390/732390 [==============================] - 38s 52us/step - loss: 1027480.0447 - mean_absolute_error: 680.0208 - val_loss: 977277.6982 - val_mean_absolute_error: 667.7428\n",
            "Epoch 6/10\n",
            "732390/732390 [==============================] - 35s 48us/step - loss: 998382.9407 - mean_absolute_error: 671.7496 - val_loss: 941391.8789 - val_mean_absolute_error: 660.5804\n",
            "Epoch 7/10\n",
            "732390/732390 [==============================] - 36s 49us/step - loss: 982592.7586 - mean_absolute_error: 666.6328 - val_loss: 945146.3742 - val_mean_absolute_error: 659.2310\n",
            "Epoch 8/10\n",
            "732390/732390 [==============================] - 35s 47us/step - loss: 958592.3347 - mean_absolute_error: 659.9552 - val_loss: 890162.8889 - val_mean_absolute_error: 643.0346\n",
            "Epoch 9/10\n",
            "732390/732390 [==============================] - 36s 49us/step - loss: 938630.9130 - mean_absolute_error: 652.7611 - val_loss: 867834.9076 - val_mean_absolute_error: 637.6027\n",
            "Epoch 10/10\n",
            "732390/732390 [==============================] - 35s 47us/step - loss: 920924.4739 - mean_absolute_error: 647.1866 - val_loss: 880487.3983 - val_mean_absolute_error: 633.7560\n",
            "Metric  loss : 690.1\n",
            "Metric  mean_absolute_error : 690.1\n"
          ],
          "name": "stdout"
        }
      ]
    },
    {
      "metadata": {
        "id": "ikS_eBAROBi7",
        "colab_type": "code",
        "colab": {
          "base_uri": "https://localhost:8080/",
          "height": 1020
        },
        "outputId": "075ce603-f652-4392-cf92-ee0e5d2c84bc"
      },
      "cell_type": "code",
      "source": [
        "model = Sequential()\n",
        "model.add(Dense(350,input_dim = 44,activation=\"relu\"))\n",
        "model.add(Dense(350,activation=\"relu\"))\n",
        "model.add(Dense(350,activation=\"relu\"))\n",
        "model.add(Dense(350,activation=\"relu\"))\n",
        "model.add(Dense(350,activation=\"relu\"))\n",
        "model.add(Dense(1,activation = \"linear\"))\n",
        "model.compile(optimizer='adam',loss=\"mean_squared_error\",metrics=[\"mean_absolute_error\"])\n",
        "\n",
        "model.fit(x_train,y_train, validation_data=(x_val,y_val),epochs=15,batch_size=64,callbacks=[history])\n",
        "\n",
        "result = model.evaluate(x_test,y_test)\n",
        "for i in range(len(model.metrics_names)):\n",
        "  print(\"Metric \",model.metrics_names[i],\":\",str(round(result[i],2)))"
      ],
      "execution_count": 41,
      "outputs": [
        {
          "output_type": "stream",
          "text": [
            "Train on 732390 samples, validate on 81377 samples\n",
            "Epoch 1/15\n",
            "732390/732390 [==============================] - 43s 58us/step - loss: 1668036.1558 - mean_absolute_error: 848.7682 - val_loss: 1391763.4342 - val_mean_absolute_error: 822.2929\n",
            "Epoch 2/15\n",
            "732390/732390 [==============================] - 43s 59us/step - loss: 1178223.9480 - mean_absolute_error: 727.8970 - val_loss: 1326927.5146 - val_mean_absolute_error: 767.8719\n",
            "Epoch 3/15\n",
            "732390/732390 [==============================] - 42s 57us/step - loss: 1103083.9624 - mean_absolute_error: 702.5887 - val_loss: 1103129.3224 - val_mean_absolute_error: 708.5258\n",
            "Epoch 4/15\n",
            "732390/732390 [==============================] - 43s 59us/step - loss: 1060283.2808 - mean_absolute_error: 688.9944 - val_loss: 1014199.5701 - val_mean_absolute_error: 679.0442\n",
            "Epoch 5/15\n",
            "732390/732390 [==============================] - 41s 56us/step - loss: 1038514.9163 - mean_absolute_error: 682.2779 - val_loss: 1043350.7875 - val_mean_absolute_error: 693.5402\n",
            "Epoch 6/15\n",
            "732390/732390 [==============================] - 44s 61us/step - loss: 1019344.1514 - mean_absolute_error: 676.8103 - val_loss: 978472.8194 - val_mean_absolute_error: 662.1369\n",
            "Epoch 7/15\n",
            "732390/732390 [==============================] - 41s 56us/step - loss: 999939.9721 - mean_absolute_error: 670.5147 - val_loss: 1120414.9661 - val_mean_absolute_error: 729.1646\n",
            "Epoch 8/15\n",
            "732390/732390 [==============================] - 43s 58us/step - loss: 976066.5027 - mean_absolute_error: 663.1325 - val_loss: 972052.0571 - val_mean_absolute_error: 674.5352\n",
            "Epoch 9/15\n",
            "732390/732390 [==============================] - 41s 56us/step - loss: 962188.0513 - mean_absolute_error: 659.0306 - val_loss: 884975.0631 - val_mean_absolute_error: 634.9357\n",
            "Epoch 10/15\n",
            "732390/732390 [==============================] - 43s 58us/step - loss: 946094.2717 - mean_absolute_error: 653.3623 - val_loss: 988205.5985 - val_mean_absolute_error: 665.5666\n",
            "Epoch 11/15\n",
            "732390/732390 [==============================] - 41s 56us/step - loss: 931117.2877 - mean_absolute_error: 648.1744 - val_loss: 873690.6011 - val_mean_absolute_error: 634.2235\n",
            "Epoch 12/15\n",
            "732390/732390 [==============================] - 42s 58us/step - loss: 912910.2298 - mean_absolute_error: 642.1214 - val_loss: 910412.7187 - val_mean_absolute_error: 639.3000\n",
            "Epoch 13/15\n",
            "732390/732390 [==============================] - 43s 59us/step - loss: 895185.9466 - mean_absolute_error: 635.9180 - val_loss: 838907.5059 - val_mean_absolute_error: 618.2833\n",
            "Epoch 14/15\n",
            "732390/732390 [==============================] - 43s 58us/step - loss: 889846.4490 - mean_absolute_error: 633.7508 - val_loss: 851292.2353 - val_mean_absolute_error: 628.7147\n",
            "Epoch 15/15\n",
            "732390/732390 [==============================] - 41s 56us/step - loss: 882237.3479 - mean_absolute_error: 631.4782 - val_loss: 985618.9676 - val_mean_absolute_error: 697.8313\n",
            "203442/203442 [==============================] - 7s 35us/step\n",
            "Metric  loss : 982963.56\n",
            "Metric  mean_absolute_error : 694.82\n"
          ],
          "name": "stdout"
        }
      ]
    },
    {
      "metadata": {
        "id": "8xoCF13lQGtd",
        "colab_type": "code",
        "colab": {}
      },
      "cell_type": "code",
      "source": [
        ""
      ],
      "execution_count": 0,
      "outputs": []
    }
  ]
}