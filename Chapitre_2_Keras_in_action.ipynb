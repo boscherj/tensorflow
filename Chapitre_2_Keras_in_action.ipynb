{
  "nbformat": 4,
  "nbformat_minor": 0,
  "metadata": {
    "colab": {
      "name": "Chapitre 2 - Keras in action",
      "version": "0.3.2",
      "provenance": [],
      "include_colab_link": true
    },
    "kernelspec": {
      "name": "python3",
      "display_name": "Python 3"
    }
  },
  "cells": [
    {
      "cell_type": "markdown",
      "metadata": {
        "id": "view-in-github",
        "colab_type": "text"
      },
      "source": [
        "<a href=\"https://colab.research.google.com/github/boscherj/tensorflow/blob/master/Chapitre_2_Keras_in_action.ipynb\" target=\"_parent\"><img src=\"https://colab.research.google.com/assets/colab-badge.svg\" alt=\"Open In Colab\"/></a>"
      ]
    },
    {
      "metadata": {
        "id": "lUecWAahq1FD",
        "colab_type": "code",
        "colab": {
          "base_uri": "https://localhost:8080/",
          "height": 34
        },
        "outputId": "5a8b556b-af70-4066-b1b7-df70e3d066ec"
      },
      "cell_type": "code",
      "source": [
        "import numpy as np\n",
        "from keras.models import Sequential\n",
        "from keras.layers import Dense, Activation"
      ],
      "execution_count": 1,
      "outputs": [
        {
          "output_type": "stream",
          "text": [
            "Using TensorFlow backend.\n"
          ],
          "name": "stderr"
        }
      ]
    },
    {
      "metadata": {
        "id": "TLR91Jt0rBCz",
        "colab_type": "code",
        "colab": {}
      },
      "cell_type": "code",
      "source": [
        "# Generate dummy training dataset\n",
        "np.random.seed(2018)\n",
        "x_train = np.random.random((6000,10))\n",
        "y_train = np.random.randint(2, size=(6000, 1))"
      ],
      "execution_count": 0,
      "outputs": []
    },
    {
      "metadata": {
        "id": "omyiZNIhrDVp",
        "colab_type": "code",
        "colab": {}
      },
      "cell_type": "code",
      "source": [
        "# Generate dummy validation dataset\n",
        "x_val = np.random.random((2000,10))\n",
        "y_val = np.random.randint(2, size=(2000, 1))"
      ],
      "execution_count": 0,
      "outputs": []
    },
    {
      "metadata": {
        "id": "GKUodSzlrFAh",
        "colab_type": "code",
        "colab": {}
      },
      "cell_type": "code",
      "source": [
        "# Generate dummy test dataset\n",
        "x_test = np.random.random((2000,10))\n",
        "y_test = np.random.randint(2, size=(2000, 1))"
      ],
      "execution_count": 0,
      "outputs": []
    },
    {
      "metadata": {
        "id": "IAqbl0mQrG3S",
        "colab_type": "code",
        "colab": {
          "base_uri": "https://localhost:8080/",
          "height": 108
        },
        "outputId": "ce505e25-92c1-448f-8162-60968e81f91c"
      },
      "cell_type": "code",
      "source": [
        "#Define the model architecture\n",
        "model = Sequential()\n",
        "model.add(Dense(64, input_dim=10,activation = \"relu\")) # Layer 1\n",
        "model.add(Dense(32,activation = \"relu\")) #Layer 2\n",
        "model.add(Dense(16,activation = \"relu\")) #Layer 3\n",
        "model.add(Dense(8,activation = \"relu\")) #Layer 4\n",
        "model.add(Dense(4,activation = \"relu\")) #Layer 5\n",
        "model.add(Dense(1,activation = \"sigmoid\")) #Output Layer\n"
      ],
      "execution_count": 5,
      "outputs": [
        {
          "output_type": "stream",
          "text": [
            "WARNING:tensorflow:From /usr/local/lib/python3.6/dist-packages/tensorflow/python/framework/op_def_library.py:263: colocate_with (from tensorflow.python.framework.ops) is deprecated and will be removed in a future version.\n",
            "Instructions for updating:\n",
            "Colocations handled automatically by placer.\n"
          ],
          "name": "stdout"
        }
      ]
    },
    {
      "metadata": {
        "id": "-TKtrmIMrVOD",
        "colab_type": "code",
        "colab": {}
      },
      "cell_type": "code",
      "source": [
        "#Configure the model\n",
        "model.compile(optimizer='Adam',loss='binary_crossentropy',metrics=['accuracy'])"
      ],
      "execution_count": 0,
      "outputs": []
    },
    {
      "metadata": {
        "id": "Mvxft1AhrX-z",
        "colab_type": "code",
        "colab": {
          "base_uri": "https://localhost:8080/",
          "height": 227
        },
        "outputId": "c641376a-ea64-46a6-a989-b5e9ea56ad98"
      },
      "cell_type": "code",
      "source": [
        "#Train the model\n",
        "model.fit(x_train, y_train, batch_size=64, epochs=3,validation_data=(x_val,y_val))"
      ],
      "execution_count": 7,
      "outputs": [
        {
          "output_type": "stream",
          "text": [
            "WARNING:tensorflow:From /usr/local/lib/python3.6/dist-packages/tensorflow/python/ops/math_ops.py:3066: to_int32 (from tensorflow.python.ops.math_ops) is deprecated and will be removed in a future version.\n",
            "Instructions for updating:\n",
            "Use tf.cast instead.\n",
            "Train on 6000 samples, validate on 2000 samples\n",
            "Epoch 1/3\n",
            "6000/6000 [==============================] - 0s 83us/step - loss: 0.6933 - acc: 0.5047 - val_loss: 0.6931 - val_acc: 0.5150\n",
            "Epoch 2/3\n",
            "6000/6000 [==============================] - 0s 28us/step - loss: 0.6930 - acc: 0.5027 - val_loss: 0.6934 - val_acc: 0.4915\n",
            "Epoch 3/3\n",
            "6000/6000 [==============================] - 0s 26us/step - loss: 0.6932 - acc: 0.4943 - val_loss: 0.6932 - val_acc: 0.4985\n"
          ],
          "name": "stdout"
        },
        {
          "output_type": "execute_result",
          "data": {
            "text/plain": [
              "<keras.callbacks.History at 0x7fde61341b38>"
            ]
          },
          "metadata": {
            "tags": []
          },
          "execution_count": 7
        }
      ]
    },
    {
      "metadata": {
        "id": "L8sTmP5frars",
        "colab_type": "code",
        "colab": {}
      },
      "cell_type": "code",
      "source": [
        ""
      ],
      "execution_count": 0,
      "outputs": []
    }
  ]
}