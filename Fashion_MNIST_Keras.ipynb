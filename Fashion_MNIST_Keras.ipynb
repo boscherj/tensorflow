{
  "nbformat": 4,
  "nbformat_minor": 0,
  "metadata": {
    "colab": {
      "name": "Fashion MNIST_Keras.ipynb",
      "version": "0.3.2",
      "provenance": [],
      "include_colab_link": true
    },
    "kernelspec": {
      "name": "python3",
      "display_name": "Python 3"
    },
    "accelerator": "GPU"
  },
  "cells": [
    {
      "cell_type": "markdown",
      "metadata": {
        "id": "view-in-github",
        "colab_type": "text"
      },
      "source": [
        "<a href=\"https://colab.research.google.com/github/boscherj/tensorflow/blob/master/Fashion_MNIST_Keras.ipynb\" target=\"_parent\"><img src=\"https://colab.research.google.com/assets/colab-badge.svg\" alt=\"Open In Colab\"/></a>"
      ]
    },
    {
      "metadata": {
        "id": "vYutM1qvIJuO",
        "colab_type": "code",
        "colab": {}
      },
      "cell_type": "code",
      "source": [
        "from __future__ import print_function\n",
        "import keras\n",
        "from keras.datasets import mnist\n",
        "from keras.models import Sequential\n",
        "from keras.layers import Dense, Dropout, Flatten\n",
        "from keras.layers import Conv2D, MaxPooling2D\n",
        "from keras import backend as K\n",
        "\n"
      ],
      "execution_count": 0,
      "outputs": []
    },
    {
      "metadata": {
        "id": "OEweI_YzJ99A",
        "colab_type": "code",
        "colab": {}
      },
      "cell_type": "code",
      "source": [
        "batch_size = 128\n",
        "num_classes = 10\n",
        "epochs = 12\n",
        "\n",
        "# input image dimensions\n",
        "img_rows, img_cols = 28, 28"
      ],
      "execution_count": 0,
      "outputs": []
    },
    {
      "metadata": {
        "id": "1xGYvS6uJ5Et",
        "colab_type": "code",
        "colab": {}
      },
      "cell_type": "code",
      "source": [
        "fashion_mnist = keras.datasets.fashion_mnist\n",
        "\n",
        "(x_train, y_train), (x_test, y_test) = fashion_mnist.load_data()"
      ],
      "execution_count": 0,
      "outputs": []
    },
    {
      "metadata": {
        "id": "6hjQQcORIx5U",
        "colab_type": "code",
        "outputId": "f38f676b-3fdc-45ab-d1ef-0f4c01072f42",
        "colab": {
          "base_uri": "https://localhost:8080/",
          "height": 68
        }
      },
      "cell_type": "code",
      "source": [
        "if K.image_data_format() == 'channels_first':\n",
        "    x_train = x_train.reshape(x_train.shape[0], 1, img_rows, img_cols)\n",
        "    x_test = x_test.reshape(x_test.shape[0], 1, img_rows, img_cols)\n",
        "    input_shape = (1, img_rows, img_cols)\n",
        "else:\n",
        "    x_train = x_train.reshape(x_train.shape[0], img_rows, img_cols, 1)\n",
        "    x_test = x_test.reshape(x_test.shape[0], img_rows, img_cols, 1)\n",
        "    input_shape = (img_rows, img_cols, 1)\n",
        "\n",
        "x_train = x_train.astype('float32')\n",
        "x_test = x_test.astype('float32')\n",
        "x_train /= 255\n",
        "x_test /= 255\n",
        "print('x_train shape:', x_train.shape)\n",
        "print(x_train.shape[0], 'train samples')\n",
        "print(x_test.shape[0], 'test samples')\n",
        "\n"
      ],
      "execution_count": 0,
      "outputs": [
        {
          "output_type": "stream",
          "text": [
            "x_train shape: (60000, 28, 28, 1)\n",
            "60000 train samples\n",
            "10000 test samples\n"
          ],
          "name": "stdout"
        }
      ]
    },
    {
      "metadata": {
        "id": "p75XQtuXJ8Z1",
        "colab_type": "code",
        "colab": {}
      },
      "cell_type": "code",
      "source": [
        ""
      ],
      "execution_count": 0,
      "outputs": []
    },
    {
      "metadata": {
        "id": "5rcri0piI9L9",
        "colab_type": "code",
        "colab": {}
      },
      "cell_type": "code",
      "source": [
        "# convert class vectors to binary class matrices\n",
        "y_train = keras.utils.to_categorical(y_train, num_classes)\n",
        "y_test = keras.utils.to_categorical(y_test, num_classes)\n",
        "\n",
        "model = Sequential()\n",
        "model.add(Conv2D(32, kernel_size=(3, 3),\n",
        "                 activation='relu',\n",
        "                 input_shape=input_shape))\n",
        "model.add(Conv2D(64, (3, 3), activation='relu'))\n",
        "model.add(MaxPooling2D(pool_size=(2, 2)))\n",
        "model.add(Dropout(0.25))\n",
        "model.add(Flatten())\n",
        "model.add(Dense(128, activation='relu'))\n",
        "model.add(Dropout(0.5))\n",
        "model.add(Dense(num_classes, activation='softmax'))\n",
        "\n",
        "model.compile(loss=keras.losses.categorical_crossentropy,\n",
        "              optimizer=keras.optimizers.Adam(),\n",
        "              metrics=['accuracy'])\n",
        "\n"
      ],
      "execution_count": 0,
      "outputs": []
    },
    {
      "metadata": {
        "id": "B9NU1vavItvh",
        "colab_type": "code",
        "outputId": "3a02cdb7-891c-4acb-eaf1-97da8385af02",
        "colab": {
          "base_uri": "https://localhost:8080/",
          "height": 476
        }
      },
      "cell_type": "code",
      "source": [
        "model.fit(x_train, y_train,\n",
        "          batch_size=batch_size,\n",
        "          epochs=epochs,\n",
        "          verbose=1,\n",
        "          validation_data=(x_test, y_test))\n",
        "score = model.evaluate(x_test, y_test, verbose=0)\n",
        "print('Test loss:', score[0])\n",
        "print('Test accuracy:', score[1])"
      ],
      "execution_count": 0,
      "outputs": [
        {
          "output_type": "stream",
          "text": [
            "Train on 60000 samples, validate on 10000 samples\n",
            "Epoch 1/12\n",
            "60000/60000 [==============================] - 9s 152us/step - loss: 0.5348 - acc: 0.8122 - val_loss: 0.3438 - val_acc: 0.8757\n",
            "Epoch 2/12\n",
            "60000/60000 [==============================] - 8s 139us/step - loss: 0.3529 - acc: 0.8736 - val_loss: 0.2892 - val_acc: 0.8963\n",
            "Epoch 3/12\n",
            "60000/60000 [==============================] - 8s 139us/step - loss: 0.3012 - acc: 0.8911 - val_loss: 0.2613 - val_acc: 0.9063\n",
            "Epoch 4/12\n",
            "60000/60000 [==============================] - 8s 139us/step - loss: 0.2681 - acc: 0.9039 - val_loss: 0.2472 - val_acc: 0.9104\n",
            "Epoch 5/12\n",
            "60000/60000 [==============================] - 8s 140us/step - loss: 0.2459 - acc: 0.9107 - val_loss: 0.2445 - val_acc: 0.9101\n",
            "Epoch 6/12\n",
            "60000/60000 [==============================] - 8s 140us/step - loss: 0.2259 - acc: 0.9173 - val_loss: 0.2253 - val_acc: 0.9187\n",
            "Epoch 7/12\n",
            "60000/60000 [==============================] - 8s 140us/step - loss: 0.2072 - acc: 0.9256 - val_loss: 0.2166 - val_acc: 0.9204\n",
            "Epoch 8/12\n",
            "60000/60000 [==============================] - 8s 140us/step - loss: 0.1912 - acc: 0.9292 - val_loss: 0.2174 - val_acc: 0.9234\n",
            "Epoch 9/12\n",
            "60000/60000 [==============================] - 8s 140us/step - loss: 0.1792 - acc: 0.9336 - val_loss: 0.2213 - val_acc: 0.9236\n",
            "Epoch 10/12\n",
            "60000/60000 [==============================] - 8s 139us/step - loss: 0.1684 - acc: 0.9371 - val_loss: 0.2029 - val_acc: 0.9280\n",
            "Epoch 11/12\n",
            "60000/60000 [==============================] - 8s 139us/step - loss: 0.1550 - acc: 0.9420 - val_loss: 0.2183 - val_acc: 0.9284\n",
            "Epoch 12/12\n",
            "60000/60000 [==============================] - 8s 140us/step - loss: 0.1471 - acc: 0.9451 - val_loss: 0.2175 - val_acc: 0.9267\n",
            "Test loss: 0.2175135334253311\n",
            "Test accuracy: 0.9267\n"
          ],
          "name": "stdout"
        }
      ]
    },
    {
      "metadata": {
        "id": "8MvjXKAwQ-k6",
        "colab_type": "text"
      },
      "cell_type": "markdown",
      "source": [
        ""
      ]
    },
    {
      "metadata": {
        "id": "_mvhQU7gIMv4",
        "colab_type": "code",
        "colab": {}
      },
      "cell_type": "code",
      "source": [
        ""
      ],
      "execution_count": 0,
      "outputs": []
    }
  ]
}