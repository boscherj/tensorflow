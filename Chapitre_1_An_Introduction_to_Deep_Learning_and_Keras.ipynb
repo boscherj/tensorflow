{
  "nbformat": 4,
  "nbformat_minor": 0,
  "metadata": {
    "colab": {
      "name": "Chapitre 1 - An Introduction to Deep Learning and Keras",
      "version": "0.3.2",
      "provenance": [],
      "include_colab_link": true
    },
    "kernelspec": {
      "name": "python3",
      "display_name": "Python 3"
    }
  },
  "cells": [
    {
      "cell_type": "markdown",
      "metadata": {
        "id": "view-in-github",
        "colab_type": "text"
      },
      "source": [
        "<a href=\"https://colab.research.google.com/github/boscherj/tensorflow/blob/master/Chapitre_1_An_Introduction_to_Deep_Learning_and_Keras.ipynb\" target=\"_parent\"><img src=\"https://colab.research.google.com/assets/colab-badge.svg\" alt=\"Open In Colab\"/></a>"
      ]
    },
    {
      "metadata": {
        "id": "DZfCmtBldgTC",
        "colab_type": "code",
        "colab": {
          "base_uri": "https://localhost:8080/",
          "height": 34
        },
        "outputId": "ba01a35b-8c6a-4c82-ecc6-c6192453b806"
      },
      "cell_type": "code",
      "source": [
        "# From an Introduction to Deep LearnIng and Keras\n",
        "# De Jojo Moolayil\n",
        "# apress\n",
        "\n",
        "# Import required packages\n",
        "from keras.models import Sequential\n",
        "from keras.layers import Dense\n",
        "import numpy as np"
      ],
      "execution_count": 3,
      "outputs": [
        {
          "output_type": "stream",
          "text": [
            "Using TensorFlow backend.\n"
          ],
          "name": "stderr"
        }
      ]
    },
    {
      "metadata": {
        "id": "qq6HTi3GfCCt",
        "colab_type": "code",
        "colab": {}
      },
      "cell_type": "code",
      "source": [
        "# Getting the data ready\n",
        "# Generate train dummy data for 1000 Students and dummy test for 500\n",
        "#Columns :Age, Hours of Study &Avg Previous test scores\n",
        "np.random.seed(2018) #Setting seed for reproducibility\n",
        "train_data, test_data = np.random.random((1000, 3)), np.random.random((500, 3))\n",
        "\n"
      ],
      "execution_count": 0,
      "outputs": []
    },
    {
      "metadata": {
        "id": "_jhRrMpDfK9S",
        "colab_type": "code",
        "colab": {
          "base_uri": "https://localhost:8080/",
          "height": 108
        },
        "outputId": "2113f61b-b52d-4bce-aa77-c7e054869462"
      },
      "cell_type": "code",
      "source": [
        "#Generate dummy results for 1000 students : Whether Passed (1) or Failed (0)\n",
        "labels = np.random.randint(2, size=(1000, 1))\n",
        "\n",
        "#Defining the model structure with the required layers, # of neurons, activation function and optimizers\n",
        "model = Sequential()\n",
        "model.add(Dense(5, input_dim=3, activation='relu'))\n",
        "model.add(Dense(4, activation='relu'))\n",
        "model.add(Dense(1, activation='sigmoid'))\n",
        "model.compile(loss='binary_crossentropy', optimizer='adam',metrics=['accuracy'])\n",
        "\n"
      ],
      "execution_count": 7,
      "outputs": [
        {
          "output_type": "stream",
          "text": [
            "WARNING:tensorflow:From /usr/local/lib/python3.6/dist-packages/tensorflow/python/framework/op_def_library.py:263: colocate_with (from tensorflow.python.framework.ops) is deprecated and will be removed in a future version.\n",
            "Instructions for updating:\n",
            "Colocations handled automatically by placer.\n"
          ],
          "name": "stdout"
        }
      ]
    },
    {
      "metadata": {
        "id": "bXGrbichfQTi",
        "colab_type": "code",
        "colab": {
          "base_uri": "https://localhost:8080/",
          "height": 428
        },
        "outputId": "8f2edd23-284e-400d-8b12-954160fd0472"
      },
      "cell_type": "code",
      "source": [
        "#Train the model and make predictions\n",
        "model.fit(train_data, labels, epochs=10, batch_size=32)\n",
        "#Make predictions from the trained model\n",
        "predictions = model.predict(test_data)"
      ],
      "execution_count": 8,
      "outputs": [
        {
          "output_type": "stream",
          "text": [
            "WARNING:tensorflow:From /usr/local/lib/python3.6/dist-packages/tensorflow/python/ops/math_ops.py:3066: to_int32 (from tensorflow.python.ops.math_ops) is deprecated and will be removed in a future version.\n",
            "Instructions for updating:\n",
            "Use tf.cast instead.\n",
            "Epoch 1/10\n",
            "1000/1000 [==============================] - 1s 753us/step - loss: 0.6940 - acc: 0.5100\n",
            "Epoch 2/10\n",
            "1000/1000 [==============================] - 0s 42us/step - loss: 0.6939 - acc: 0.5100\n",
            "Epoch 3/10\n",
            "1000/1000 [==============================] - 0s 41us/step - loss: 0.6938 - acc: 0.5100\n",
            "Epoch 4/10\n",
            "1000/1000 [==============================] - 0s 38us/step - loss: 0.6938 - acc: 0.5100\n",
            "Epoch 5/10\n",
            "1000/1000 [==============================] - 0s 43us/step - loss: 0.6937 - acc: 0.5100\n",
            "Epoch 6/10\n",
            "1000/1000 [==============================] - 0s 42us/step - loss: 0.6937 - acc: 0.5100\n",
            "Epoch 7/10\n",
            "1000/1000 [==============================] - 0s 44us/step - loss: 0.6937 - acc: 0.5100\n",
            "Epoch 8/10\n",
            "1000/1000 [==============================] - 0s 43us/step - loss: 0.6936 - acc: 0.5100\n",
            "Epoch 9/10\n",
            "1000/1000 [==============================] - 0s 52us/step - loss: 0.6935 - acc: 0.5100\n",
            "Epoch 10/10\n",
            "1000/1000 [==============================] - 0s 49us/step - loss: 0.6935 - acc: 0.5100\n"
          ],
          "name": "stdout"
        }
      ]
    },
    {
      "metadata": {
        "id": "hj3psnOWfUuU",
        "colab_type": "code",
        "colab": {}
      },
      "cell_type": "code",
      "source": [
        ""
      ],
      "execution_count": 0,
      "outputs": []
    }
  ]
}